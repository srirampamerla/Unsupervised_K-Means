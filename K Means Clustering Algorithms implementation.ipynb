{
 "cells": [
  {
   "cell_type": "code",
   "execution_count": 1,
   "metadata": {},
   "outputs": [],
   "source": [
    "import matplotlib.pyplot as plt\n",
    "from sklearn.datasets import make_blobs\n",
    "import pandas as pd\n",
    "import numpy as np\n",
    "%matplotlib inline"
   ]
  },
  {
   "cell_type": "code",
   "execution_count": 2,
   "metadata": {},
   "outputs": [],
   "source": [
    "X,y=make_blobs(n_samples=1000,centers=3,n_features=2)"
   ]
  },
  {
   "cell_type": "code",
   "execution_count": 3,
   "metadata": {},
   "outputs": [
    {
     "data": {
      "text/plain": [
       "array([[ -5.91537512, -10.47259044],\n",
       "       [ -1.2207946 ,   8.9412606 ],\n",
       "       [ -8.55251716,  -0.94331934],\n",
       "       ...,\n",
       "       [ -5.0977822 ,  -7.67439275],\n",
       "       [ -0.29310775,   6.70060011],\n",
       "       [ -2.41184431,   7.09250909]])"
      ]
     },
     "execution_count": 3,
     "metadata": {},
     "output_type": "execute_result"
    }
   ],
   "source": [
    "X"
   ]
  },
  {
   "cell_type": "code",
   "execution_count": 4,
   "metadata": {},
   "outputs": [
    {
     "data": {
      "text/plain": [
       "array([2, 1, 0, 2, 2, 0, 2, 1, 0, 0, 2, 0, 0, 0, 1, 0, 2, 0, 0, 1, 2, 2,\n",
       "       0, 2, 1, 2, 0, 0, 0, 1, 0, 0, 0, 1, 0, 1, 2, 2, 2, 2, 1, 1, 0, 1,\n",
       "       1, 0, 0, 1, 1, 2, 2, 0, 2, 2, 0, 0, 0, 0, 1, 2, 1, 0, 1, 2, 0, 2,\n",
       "       0, 2, 0, 0, 2, 2, 2, 0, 0, 1, 2, 1, 0, 1, 2, 1, 0, 2, 2, 0, 2, 2,\n",
       "       0, 0, 2, 0, 2, 0, 0, 1, 0, 2, 2, 0, 0, 2, 0, 2, 2, 2, 0, 1, 2, 0,\n",
       "       2, 0, 2, 1, 1, 0, 1, 2, 1, 2, 0, 2, 0, 1, 1, 1, 1, 0, 0, 2, 1, 0,\n",
       "       1, 1, 0, 0, 1, 1, 2, 0, 0, 2, 0, 1, 1, 0, 2, 0, 2, 0, 0, 2, 0, 1,\n",
       "       2, 1, 0, 2, 2, 0, 0, 2, 1, 0, 2, 2, 1, 2, 2, 1, 1, 0, 2, 0, 1, 0,\n",
       "       2, 2, 2, 0, 2, 0, 1, 1, 1, 0, 2, 1, 0, 1, 1, 0, 2, 0, 0, 2, 0, 1,\n",
       "       2, 1, 2, 2, 2, 0, 2, 1, 2, 1, 0, 2, 2, 1, 0, 2, 1, 0, 0, 1, 2, 2,\n",
       "       1, 0, 0, 0, 0, 0, 1, 1, 2, 0, 1, 2, 2, 1, 2, 1, 0, 2, 1, 2, 0, 1,\n",
       "       2, 0, 2, 0, 2, 1, 1, 2, 2, 0, 1, 1, 2, 0, 0, 0, 2, 0, 0, 0, 0, 0,\n",
       "       0, 1, 2, 0, 1, 1, 1, 0, 0, 2, 2, 0, 2, 2, 1, 0, 0, 2, 2, 1, 1, 0,\n",
       "       2, 1, 0, 1, 2, 2, 1, 2, 1, 1, 0, 1, 1, 1, 0, 1, 1, 2, 2, 1, 2, 2,\n",
       "       2, 2, 1, 1, 0, 2, 1, 0, 0, 0, 1, 2, 0, 0, 0, 1, 1, 0, 0, 1, 0, 2,\n",
       "       0, 0, 2, 2, 0, 1, 1, 1, 0, 0, 1, 0, 0, 1, 2, 1, 1, 2, 0, 0, 2, 1,\n",
       "       1, 0, 1, 0, 2, 1, 2, 0, 1, 2, 2, 2, 1, 2, 0, 0, 2, 1, 2, 2, 2, 0,\n",
       "       2, 0, 1, 0, 2, 2, 1, 0, 1, 0, 0, 0, 0, 2, 2, 1, 1, 0, 0, 1, 2, 2,\n",
       "       1, 2, 1, 2, 0, 1, 1, 1, 0, 1, 1, 0, 0, 1, 1, 2, 1, 1, 2, 2, 1, 1,\n",
       "       1, 2, 2, 0, 1, 1, 0, 1, 0, 2, 0, 2, 1, 2, 1, 1, 1, 2, 2, 1, 2, 1,\n",
       "       0, 1, 2, 1, 0, 2, 0, 0, 0, 1, 0, 2, 2, 2, 0, 0, 1, 2, 2, 2, 0, 1,\n",
       "       2, 0, 0, 1, 1, 0, 1, 0, 1, 2, 0, 2, 2, 0, 1, 1, 1, 0, 0, 1, 1, 2,\n",
       "       1, 1, 2, 2, 1, 1, 1, 1, 1, 2, 2, 1, 1, 1, 2, 0, 0, 0, 0, 0, 0, 2,\n",
       "       0, 0, 1, 2, 0, 0, 0, 0, 1, 1, 1, 2, 2, 0, 0, 2, 0, 1, 2, 1, 0, 2,\n",
       "       2, 1, 1, 1, 1, 0, 1, 1, 2, 2, 0, 2, 2, 0, 2, 2, 1, 1, 2, 0, 2, 2,\n",
       "       2, 1, 2, 1, 1, 0, 0, 0, 2, 2, 1, 1, 1, 2, 2, 2, 2, 0, 0, 0, 1, 2,\n",
       "       2, 0, 2, 1, 2, 0, 0, 2, 0, 2, 0, 1, 2, 2, 1, 1, 2, 1, 1, 1, 0, 0,\n",
       "       1, 1, 0, 1, 0, 0, 2, 0, 1, 1, 2, 1, 0, 0, 1, 2, 1, 0, 0, 0, 1, 1,\n",
       "       1, 0, 1, 1, 0, 1, 1, 1, 0, 2, 1, 0, 2, 0, 0, 0, 0, 2, 1, 2, 0, 2,\n",
       "       1, 2, 0, 1, 0, 2, 0, 0, 2, 1, 1, 2, 2, 2, 2, 2, 1, 2, 2, 0, 1, 2,\n",
       "       0, 2, 2, 0, 0, 1, 0, 2, 1, 2, 2, 0, 1, 1, 2, 2, 1, 0, 1, 2, 0, 0,\n",
       "       0, 0, 2, 1, 1, 1, 1, 1, 0, 0, 1, 0, 0, 2, 2, 0, 2, 2, 2, 1, 2, 0,\n",
       "       2, 2, 1, 2, 1, 1, 1, 1, 1, 2, 1, 2, 2, 1, 0, 0, 1, 2, 2, 0, 0, 2,\n",
       "       0, 2, 1, 0, 1, 0, 0, 1, 1, 2, 2, 1, 0, 2, 1, 1, 2, 1, 1, 1, 1, 1,\n",
       "       0, 2, 1, 1, 0, 1, 0, 1, 0, 2, 1, 1, 0, 1, 0, 0, 0, 0, 1, 2, 0, 1,\n",
       "       1, 2, 2, 2, 2, 1, 2, 2, 2, 1, 0, 2, 0, 0, 2, 0, 1, 1, 0, 0, 2, 1,\n",
       "       2, 1, 0, 0, 0, 0, 2, 2, 0, 1, 1, 2, 1, 0, 1, 1, 1, 1, 1, 1, 2, 1,\n",
       "       2, 2, 0, 2, 0, 0, 2, 0, 1, 2, 0, 0, 2, 0, 0, 2, 0, 2, 0, 2, 1, 1,\n",
       "       0, 0, 2, 2, 0, 0, 1, 1, 2, 0, 2, 0, 1, 2, 2, 2, 1, 2, 1, 1, 2, 1,\n",
       "       2, 0, 1, 0, 2, 1, 2, 2, 0, 1, 2, 0, 0, 2, 1, 1, 1, 1, 0, 2, 1, 0,\n",
       "       1, 1, 0, 0, 0, 0, 2, 1, 0, 1, 0, 2, 1, 2, 0, 0, 0, 2, 0, 1, 2, 2,\n",
       "       1, 2, 1, 2, 0, 2, 2, 1, 0, 0, 2, 1, 1, 1, 1, 1, 2, 1, 2, 2, 1, 2,\n",
       "       1, 2, 2, 1, 1, 2, 0, 2, 0, 1, 0, 2, 0, 2, 2, 1, 2, 0, 1, 2, 1, 0,\n",
       "       1, 1, 1, 1, 0, 2, 0, 1, 0, 0, 1, 2, 2, 0, 0, 1, 0, 0, 2, 2, 1, 1,\n",
       "       2, 2, 1, 2, 0, 2, 1, 2, 2, 0, 1, 0, 2, 0, 1, 0, 0, 1, 2, 0, 2, 2,\n",
       "       2, 2, 2, 0, 2, 1, 1, 2, 1, 1])"
      ]
     },
     "execution_count": 4,
     "metadata": {},
     "output_type": "execute_result"
    }
   ],
   "source": [
    "y"
   ]
  },
  {
   "cell_type": "code",
   "execution_count": 5,
   "metadata": {},
   "outputs": [
    {
     "data": {
      "text/plain": [
       "<matplotlib.collections.PathCollection at 0x29a72e04f70>"
      ]
     },
     "execution_count": 5,
     "metadata": {},
     "output_type": "execute_result"
    },
    {
     "data": {
      "image/png": "[encoded data removed]",
      "text/plain": [
       "<Figure size 432x288 with 1 Axes>"
      ]
     },
     "metadata": {
      "needs_background": "light"
     },
     "output_type": "display_data"
    }
   ],
   "source": [
    "plt.scatter(X[:,0],X[:,1],c=y)"
   ]
  },
  {
   "cell_type": "code",
   "execution_count": 6,
   "metadata": {},
   "outputs": [],
   "source": [
    "## standardization--feature scaling technique\n",
    "from sklearn.preprocessing import StandardScaler\n",
    "scaler=StandardScaler()"
   ]
  },
  {
   "cell_type": "code",
   "execution_count": 7,
   "metadata": {},
   "outputs": [],
   "source": [
    "from sklearn.model_selection import train_test_split"
   ]
  },
  {
   "cell_type": "code",
   "execution_count": 8,
   "metadata": {},
   "outputs": [],
   "source": [
    "X_train, X_test, y_train, y_test = train_test_split(\n",
    "    X, y, test_size=0.33, random_state=42)"
   ]
  },
  {
   "cell_type": "code",
   "execution_count": 9,
   "metadata": {},
   "outputs": [],
   "source": [
    "X_train_scaled=scaler.fit_transform(X_train)\n",
    "X_test_scaled=scaler.transform(X_test)"
   ]
  },
  {
   "cell_type": "code",
   "execution_count": 10,
   "metadata": {},
   "outputs": [],
   "source": [
    "from sklearn.cluster import KMeans"
   ]
  },
  {
   "cell_type": "code",
   "execution_count": 11,
   "metadata": {},
   "outputs": [
    {
     "name": "stderr",
     "output_type": "stream",
     "text": [
      "C:\\Users\\HP\\anaconda3\\lib\\site-packages\\sklearn\\cluster\\_kmeans.py:1036: UserWarning: KMeans is known to have a memory leak on Windows with MKL, when there are less chunks than available threads. You can avoid it by setting the environment variable OMP_NUM_THREADS=3.\n",
      "  warnings.warn(\n"
     ]
    }
   ],
   "source": [
    "## Elbow method To select K Value\n",
    "wcss=[]\n",
    "for k in range(1,11):\n",
    "    kmeans=KMeans(n_clusters=k,init=\"k-means++\",random_state=0)\n",
    "    kmeans.fit(X_train_scaled)\n",
    "    wcss.append(kmeans.inertia_)"
   ]
  },
  {
   "cell_type": "code",
   "execution_count": 12,
   "metadata": {},
   "outputs": [
    {
     "data": {
      "text/plain": [
       "[1340.0000000000007,\n",
       " 424.95015973791095,\n",
       " 115.33148274308228,\n",
       " 92.77017711262467,\n",
       " 70.65944759222172,\n",
       " 50.480563778771895,\n",
       " 43.76914814023299,\n",
       " 37.78651682526583,\n",
       " 32.731467464806514,\n",
       " 29.178581843245734]"
      ]
     },
     "execution_count": 12,
     "metadata": {},
     "output_type": "execute_result"
    }
   ],
   "source": [
    "wcss"
   ]
  },
  {
   "cell_type": "code",
   "execution_count": 20,
   "metadata": {},
   "outputs": [
    {
     "data": {
      "image/png": "[encoded data removed]",
      "text/plain": [
       "<Figure size 432x288 with 1 Axes>"
      ]
     },
     "metadata": {
      "needs_background": "light"
     },
     "output_type": "display_data"
    }
   ],
   "source": [
    "## plot elbow curve\n",
    "plt.plot(range(1,11),wcss)\n",
    "plt.xticks(range(1,11))\n",
    "plt.xlabel(\"Number of Clustrers\")\n",
    "plt.ylabel(\"WCSS\")\n",
    "plt.show()"
   ]
  },
  {
   "cell_type": "code",
   "execution_count": 25,
   "metadata": {},
   "outputs": [],
   "source": [
    "kmeans=KMeans(n_clusters=3,init=\"k-means++\")\n",
    "#k-means ++ initialize means centroids are far away from points"
   ]
  },
  {
   "cell_type": "code",
   "execution_count": 26,
   "metadata": {},
   "outputs": [
    {
     "data": {
      "text/plain": [
       "array([2, 2, 2, 1, 1, 1, 1, 1, 2, 1, 2, 0, 0, 1, 2, 2, 1, 2, 0, 0, 2, 0,\n",
       "       1, 2, 1, 2, 2, 0, 0, 2, 2, 0, 2, 0, 0, 2, 1, 0, 0, 2, 2, 2, 2, 0,\n",
       "       0, 1, 0, 2, 1, 2, 2, 0, 2, 2, 2, 2, 0, 2, 0, 2, 1, 2, 0, 1, 1, 0,\n",
       "       2, 1, 0, 2, 2, 2, 1, 1, 2, 2, 1, 0, 0, 0, 0, 1, 2, 2, 0, 1, 1, 1,\n",
       "       0, 1, 0, 1, 1, 0, 0, 0, 1, 0, 1, 1, 2, 0, 2, 2, 2, 1, 2, 1, 1, 2,\n",
       "       1, 0, 2, 1, 2, 1, 0, 0, 2, 2, 2, 1, 2, 0, 2, 2, 0, 1, 1, 1, 1, 2,\n",
       "       2, 2, 0, 2, 0, 1, 0, 0, 0, 2, 1, 2, 0, 1, 1, 1, 1, 1, 0, 0, 2, 1,\n",
       "       1, 1, 2, 0, 2, 1, 2, 1, 1, 1, 1, 2, 1, 2, 2, 0, 2, 1, 1, 0, 1, 0,\n",
       "       0, 0, 1, 0, 0, 1, 0, 1, 1, 2, 2, 1, 2, 0, 2, 1, 1, 1, 0, 1, 2, 1,\n",
       "       1, 1, 2, 1, 0, 2, 0, 0, 0, 1, 1, 1, 0, 2, 0, 2, 0, 1, 0, 1, 2, 0,\n",
       "       2, 0, 1, 0, 0, 1, 1, 2, 0, 2, 2, 0, 0, 1, 1, 2, 1, 0, 1, 2, 2, 0,\n",
       "       2, 2, 2, 1, 1, 0, 0, 2, 2, 1, 0, 0, 0, 2, 1, 1, 1, 0, 1, 0, 0, 1,\n",
       "       1, 2, 2, 1, 0, 1, 2, 1, 1, 0, 1, 1, 1, 0, 1, 0, 1, 2, 1, 2, 0, 0,\n",
       "       0, 1, 0, 0, 1, 0, 1, 0, 0, 1, 0, 2, 2, 1, 1, 0, 1, 1, 1, 0, 1, 1,\n",
       "       0, 2, 0, 0, 2, 2, 2, 0, 2, 0, 0, 0, 0, 1, 0, 0, 2, 2, 2, 1, 2, 0,\n",
       "       2, 2, 1, 2, 1, 2, 2, 2, 2, 0, 1, 1, 0, 2, 2, 1, 0, 1, 1, 2, 0, 2,\n",
       "       1, 2, 1, 2, 2, 0, 0, 0, 2, 2, 0, 2, 2, 0, 1, 1, 1, 0, 0, 0, 1, 2,\n",
       "       1, 1, 0, 1, 1, 0, 2, 0, 1, 0, 0, 2, 1, 1, 2, 2, 1, 2, 1, 0, 0, 0,\n",
       "       0, 1, 2, 0, 0, 2, 0, 2, 1, 1, 0, 1, 1, 1, 0, 2, 0, 2, 0, 0, 2, 1,\n",
       "       1, 0, 2, 1, 2, 2, 0, 0, 1, 0, 0, 1, 1, 0, 0, 2, 1, 0, 0, 0, 0, 0,\n",
       "       1, 0, 0, 2, 0, 2, 2, 0, 0, 1, 1, 1, 2, 1, 1, 0, 0, 2, 0, 2, 2, 1,\n",
       "       1, 2, 1, 2, 2, 1, 2, 1, 1, 1, 0, 0, 1, 0, 1, 0, 0, 0, 1, 1, 1, 1,\n",
       "       1, 0, 1, 2, 0, 0, 0, 1, 0, 1, 1, 2, 0, 0, 2, 2, 1, 0, 1, 2, 0, 1,\n",
       "       0, 2, 1, 1, 0, 0, 2, 0, 2, 1, 0, 0, 2, 0, 0, 0, 1, 0, 2, 0, 2, 0,\n",
       "       0, 1, 2, 0, 1, 2, 2, 0, 0, 0, 1, 0, 0, 1, 2, 1, 0, 2, 1, 1, 2, 0,\n",
       "       1, 0, 1, 1, 2, 2, 0, 1, 0, 1, 2, 1, 0, 1, 2, 0, 0, 1, 2, 1, 2, 0,\n",
       "       0, 2, 2, 1, 1, 0, 1, 2, 2, 1, 0, 0, 1, 2, 0, 2, 2, 2, 2, 1, 1, 1,\n",
       "       1, 1, 0, 2, 0, 2, 1, 0, 1, 2, 1, 1, 1, 1, 2, 1, 0, 1, 1, 2, 2, 0,\n",
       "       1, 1, 0, 1, 2, 1, 2, 0, 2, 0, 1, 2, 0, 1, 2, 0, 0, 1, 0, 1, 2, 2,\n",
       "       0, 1, 1, 0, 0, 1, 0, 0, 0, 1, 1, 1, 2, 0, 0, 2, 0, 2, 2, 1, 1, 2,\n",
       "       0, 1, 2, 2, 0, 2, 1, 1, 2, 0])"
      ]
     },
     "execution_count": 26,
     "metadata": {},
     "output_type": "execute_result"
    }
   ],
   "source": [
    "kmeans.fit_predict(X_train_scaled)"
   ]
  },
  {
   "cell_type": "code",
   "execution_count": 27,
   "metadata": {},
   "outputs": [],
   "source": [
    "y_pred=kmeans.predict(X_test_scaled)"
   ]
  },
  {
   "cell_type": "code",
   "execution_count": 28,
   "metadata": {},
   "outputs": [
    {
     "data": {
      "text/plain": [
       "array([2, 0, 1, 2, 2, 0, 1, 0, 0, 1, 1, 0, 1, 2, 1, 0, 1, 0, 2, 2, 2, 2,\n",
       "       0, 1, 0, 1, 2, 2, 0, 1, 1, 1, 0, 2, 2, 1, 0, 2, 0, 2, 0, 1, 1, 1,\n",
       "       0, 2, 2, 2, 0, 0, 2, 0, 0, 0, 0, 0, 1, 1, 2, 1, 2, 2, 0, 1, 0, 0,\n",
       "       1, 1, 2, 2, 2, 1, 1, 0, 2, 2, 1, 1, 2, 0, 0, 1, 1, 2, 1, 2, 0, 1,\n",
       "       1, 2, 2, 0, 2, 0, 1, 0, 2, 2, 2, 0, 1, 2, 2, 1, 0, 2, 0, 2, 0, 1,\n",
       "       2, 0, 2, 0, 2, 1, 1, 2, 1, 1, 2, 1, 0, 0, 2, 1, 1, 2, 2, 0, 1, 0,\n",
       "       2, 2, 0, 0, 0, 0, 2, 2, 1, 0, 2, 1, 1, 0, 2, 0, 2, 2, 1, 1, 0, 2,\n",
       "       2, 2, 0, 2, 2, 1, 0, 2, 0, 1, 0, 2, 2, 2, 2, 0, 2, 2, 1, 2, 0, 0,\n",
       "       2, 2, 2, 1, 0, 1, 1, 1, 2, 0, 0, 0, 2, 2, 2, 1, 1, 2, 1, 1, 0, 1,\n",
       "       2, 0, 0, 0, 2, 0, 1, 0, 1, 0, 1, 2, 2, 2, 1, 0, 1, 0, 0, 1, 0, 1,\n",
       "       0, 0, 0, 0, 0, 1, 2, 1, 2, 2, 0, 2, 1, 1, 1, 2, 1, 2, 1, 0, 2, 1,\n",
       "       2, 0, 0, 0, 1, 1, 0, 0, 2, 0, 1, 1, 2, 2, 1, 2, 2, 2, 2, 1, 2, 2,\n",
       "       2, 1, 2, 0, 2, 0, 1, 1, 0, 0, 0, 2, 0, 0, 0, 2, 0, 0, 0, 2, 0, 0,\n",
       "       1, 0, 2, 2, 2, 1, 0, 1, 0, 0, 0, 2, 0, 0, 1, 1, 2, 0, 0, 2, 1, 2,\n",
       "       0, 0, 2, 1, 0, 2, 1, 2, 2, 0, 1, 0, 0, 2, 0, 1, 2, 2, 1, 2, 1, 1])"
      ]
     },
     "execution_count": 28,
     "metadata": {},
     "output_type": "execute_result"
    }
   ],
   "source": [
    "y_pred"
   ]
  },
  {
   "cell_type": "code",
   "execution_count": 29,
   "metadata": {},
   "outputs": [
    {
     "data": {
      "text/plain": [
       "<matplotlib.collections.PathCollection at 0x12ef6309580>"
      ]
     },
     "execution_count": 29,
     "metadata": {},
     "output_type": "execute_result"
    },
    {
     "data": {
      "image/png": "[encoded data removed]",
      "text/plain": [
       "<Figure size 432x288 with 1 Axes>"
      ]
     },
     "metadata": {
      "needs_background": "light"
     },
     "output_type": "display_data"
    }
   ],
   "source": [
    "plt.scatter(X_test[:,0],X_test[:,1],c=y_pred)"
   ]
  },
  {
   "cell_type": "code",
   "execution_count": 25,
   "metadata": {},
   "outputs": [],
   "source": [
    "## Validating the k value\n",
    "## kneelocator\n",
    "## Silhoutee scoring"
   ]
  },
  {
   "cell_type": "code",
   "execution_count": 30,
   "metadata": {},
   "outputs": [
    {
     "name": "stdout",
     "output_type": "stream",
     "text": [
      "Collecting kneed\n",
      "  Downloading kneed-0.8.5-py3-none-any.whl (10 kB)\n",
      "Requirement already satisfied: numpy>=1.14.2 in c:\\users\\hp\\anaconda3\\lib\\site-packages (from kneed) (1.26.4)\n",
      "Requirement already satisfied: scipy>=1.0.0 in c:\\users\\hp\\anaconda3\\lib\\site-packages (from kneed) (1.13.1)\n",
      "Installing collected packages: kneed\n",
      "Successfully installed kneed-0.8.5\n"
     ]
    },
    {
     "name": "stderr",
     "output_type": "stream",
     "text": [
      "WARNING: Ignoring invalid distribution -atplotlib (c:\\users\\hp\\anaconda3\\lib\\site-packages)\n",
      "WARNING: Ignoring invalid distribution -atplotlib (c:\\users\\hp\\anaconda3\\lib\\site-packages)\n",
      "WARNING: Ignoring invalid distribution -atplotlib (c:\\users\\hp\\anaconda3\\lib\\site-packages)\n",
      "WARNING: Ignoring invalid distribution -atplotlib (c:\\users\\hp\\anaconda3\\lib\\site-packages)\n",
      "WARNING: Ignoring invalid distribution -atplotlib (c:\\users\\hp\\anaconda3\\lib\\site-packages)\n",
      "WARNING: Ignoring invalid distribution -atplotlib (c:\\users\\hp\\anaconda3\\lib\\site-packages)\n",
      "WARNING: Ignoring invalid distribution -atplotlib (c:\\users\\hp\\anaconda3\\lib\\site-packages)\n"
     ]
    }
   ],
   "source": [
    "## kneelocator\n",
    "!pip install kneed"
   ]
  },
  {
   "cell_type": "code",
   "execution_count": 31,
   "metadata": {},
   "outputs": [],
   "source": [
    "from kneed import KneeLocator"
   ]
  },
  {
   "cell_type": "code",
   "execution_count": 32,
   "metadata": {},
   "outputs": [],
   "source": [
    "kl=KneeLocator(range(1,11),wcss,curve=\"convex\",direction=\"decreasing\")"
   ]
  },
  {
   "cell_type": "code",
   "execution_count": 33,
   "metadata": {},
   "outputs": [
    {
     "data": {
      "text/plain": [
       "3"
      ]
     },
     "execution_count": 33,
     "metadata": {},
     "output_type": "execute_result"
    }
   ],
   "source": [
    "kl.elbow"
   ]
  },
  {
   "cell_type": "code",
   "execution_count": 30,
   "metadata": {},
   "outputs": [],
   "source": [
    "## silhoutte score\n",
    "from sklearn.metrics import silhouette_score"
   ]
  },
  {
   "cell_type": "code",
   "execution_count": 31,
   "metadata": {},
   "outputs": [],
   "source": [
    "silhouette_coefficients=[]\n",
    "for k in range(2,11):\n",
    "    kmeans=KMeans(n_clusters=k,init=\"k-means++\")\n",
    "    kmeans.fit(X_train_scaled)\n",
    "    score=silhouette_score(X_train_scaled,kmeans.labels_)\n",
    "    silhouette_coefficients.append(score)"
   ]
  },
  {
   "cell_type": "code",
   "execution_count": 32,
   "metadata": {},
   "outputs": [
    {
     "data": {
      "text/plain": [
       "[0.5791208264052049,\n",
       " 0.7345149600137074,\n",
       " 0.590061277437689,\n",
       " 0.46306511562346064,\n",
       " 0.3194384017662996,\n",
       " 0.3260433893207664,\n",
       " 0.3295975251169475,\n",
       " 0.33870715403767093,\n",
       " 0.33711491411125977]"
      ]
     },
     "execution_count": 32,
     "metadata": {},
     "output_type": "execute_result"
    }
   ],
   "source": [
    "silhouette_coefficients"
   ]
  },
  {
   "cell_type": "code",
   "execution_count": 33,
   "metadata": {},
   "outputs": [
    {
     "data": {
      "image/png": "[encoded data removed]",
      "text/plain": [
       "<Figure size 432x288 with 1 Axes>"
      ]
     },
     "metadata": {
      "needs_background": "light"
     },
     "output_type": "display_data"
    }
   ],
   "source": [
    "## plotting silhouette score\n",
    "plt.plot(range(2,11),silhouette_coefficients)\n",
    "plt.xticks(range(2,11))\n",
    "plt.xlabel(\"Number of Cluters\")\n",
    "plt.ylabel(\"Silhoutte Coeffecient\")\n",
    "plt.show()"
   ]
  },
  {
   "cell_type": "code",
   "execution_count": null,
   "metadata": {},
   "outputs": [],
   "source": []
  }
 ],
 "metadata": {
  "kernelspec": {
   "display_name": "Python 3 (ipykernel)",
   "language": "python",
   "name": "python3"
  },
  "language_info": {
   "codemirror_mode": {
    "name": "ipython",
    "version": 3
   },
   "file_extension": ".py",
   "mimetype": "text/x-python",
   "name": "python",
   "nbconvert_exporter": "python",
   "pygments_lexer": "ipython3",
   "version": "3.9.12"
  }
 },
 "nbformat": 4,
 "nbformat_minor": 4
}
